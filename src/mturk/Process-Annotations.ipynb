{
 "cells": [
  {
   "cell_type": "markdown",
   "metadata": {},
   "source": [
    "- Create the final CSV with the comment text, ID, majority label, confidence scores.\n",
    "- Prepare TestQuestion report and descriptive stats for the batch."
   ]
  },
  {
   "cell_type": "code",
   "execution_count": 1,
   "metadata": {},
   "outputs": [],
   "source": [
    "import pandas as pd\n",
    "import os, sys\n",
    "from collections import defaultdict\n",
    "\n",
    "pd.set_option('display.max_colwidth', -1)"
   ]
  },
  {
   "cell_type": "code",
   "execution_count": 2,
   "metadata": {},
   "outputs": [
    {
     "name": "stdout",
     "output_type": "stream",
     "text": [
      "We have 350 test questions.\n"
     ]
    }
   ],
   "source": [
    "# Test Questions DataFrame:\n",
    "tq_df = pd.read_csv('/home/ndg/users/sbagga1/unpalatable-questions/crowdsourcing/data/TestQuestions.csv', \n",
    "                    lineterminator='\\n')\n",
    "tq_df.drop('label', axis=1, inplace=True)\n",
    "TEST_QUESTIONS = tq_df['reply_id'].tolist()\n",
    "print(\"We have {} test questions.\".format(len(TEST_QUESTIONS)))"
   ]
  },
  {
   "cell_type": "code",
   "execution_count": 3,
   "metadata": {},
   "outputs": [
    {
     "name": "stdout",
     "output_type": "stream",
     "text": [
      "FE_run_900.csv has (900, 6) rows\n",
      "batch_1_600.csv has (600, 6) rows\n",
      "batch_3_6300.csv has (6300, 6) rows\n",
      "batch_2_3600.csv has (3600, 6) rows\n",
      "TestQuestios.csv has (350, 6) rows\n",
      "Before removing duplicates:  (11750, 6)\n",
      "Final shape:  (11406, 6)\n"
     ]
    },
    {
     "data": {
      "text/html": [
       "<div>\n",
       "<style scoped>\n",
       "    .dataframe tbody tr th:only-of-type {\n",
       "        vertical-align: middle;\n",
       "    }\n",
       "\n",
       "    .dataframe tbody tr th {\n",
       "        vertical-align: top;\n",
       "    }\n",
       "\n",
       "    .dataframe thead th {\n",
       "        text-align: right;\n",
       "    }\n",
       "</style>\n",
       "<table border=\"1\" class=\"dataframe\">\n",
       "  <thead>\n",
       "    <tr style=\"text-align: right;\">\n",
       "      <th></th>\n",
       "      <th>question</th>\n",
       "      <th>reply_text</th>\n",
       "      <th>comment_text</th>\n",
       "      <th>comment_id</th>\n",
       "      <th>reply_id</th>\n",
       "      <th>subreddit</th>\n",
       "    </tr>\n",
       "  </thead>\n",
       "  <tbody>\n",
       "    <tr>\n",
       "      <th>0</th>\n",
       "      <td>Like who are the people posting in there?</td>\n",
       "      <td>Hey.  \\nWhat the fuck is up with /r/sweden  \\nLike who are the people posting in there?  \\nThat's scary as hell.</td>\n",
       "      <td>And that was many years ago. Since then the state declared it ILLEGAL to note an offendors nationality or background, because that would be offensive.\\n\\nSo all the latest crime stats are blank numbers, no context. LIKE THAT WOULD BE IMPORTANT LOL</td>\n",
       "      <td>d22mbo4</td>\n",
       "      <td>d22rr63</td>\n",
       "      <td>The_Donald</td>\n",
       "    </tr>\n",
       "    <tr>\n",
       "      <th>1</th>\n",
       "      <td>Isn't carnal desires what make us the same as animals ?</td>\n",
       "      <td>Interesting point. Isn't carnal desires what make us the same as animals ?</td>\n",
       "      <td>Probably the wrong sub for this but have you noticed the explicitly carnal focus of Islam's paradise? \\n\\nBuddhists seek enlightenment, Hindu and Sikh receive oneness with god (IIRC), Judaism and Christianity vary from being reunited with loved ones in a (the?) garden to being also united with god.</td>\n",
       "      <td>d1vlwod</td>\n",
       "      <td>d1vm9xc</td>\n",
       "      <td>The_Donald</td>\n",
       "    </tr>\n",
       "  </tbody>\n",
       "</table>\n",
       "</div>"
      ],
      "text/plain": [
       "                                                  question  \\\n",
       "0  Like who are the people posting in there?                 \n",
       "1  Isn't carnal desires what make us the same as animals ?   \n",
       "\n",
       "                                                                                                         reply_text  \\\n",
       "0  Hey.  \\nWhat the fuck is up with /r/sweden  \\nLike who are the people posting in there?  \\nThat's scary as hell.   \n",
       "1  Interesting point. Isn't carnal desires what make us the same as animals ?                                         \n",
       "\n",
       "                                                                                                                                                                                                                                                                                                  comment_text  \\\n",
       "0  And that was many years ago. Since then the state declared it ILLEGAL to note an offendors nationality or background, because that would be offensive.\\n\\nSo all the latest crime stats are blank numbers, no context. LIKE THAT WOULD BE IMPORTANT LOL                                                       \n",
       "1  Probably the wrong sub for this but have you noticed the explicitly carnal focus of Islam's paradise? \\n\\nBuddhists seek enlightenment, Hindu and Sikh receive oneness with god (IIRC), Judaism and Christianity vary from being reunited with loved ones in a (the?) garden to being also united with god.   \n",
       "\n",
       "  comment_id reply_id   subreddit  \n",
       "0  d22mbo4    d22rr63  The_Donald  \n",
       "1  d1vlwod    d1vm9xc  The_Donald  "
      ]
     },
     "execution_count": 3,
     "metadata": {},
     "output_type": "execute_result"
    }
   ],
   "source": [
    "# Concatenate all data CSVs (excluding the test question):\n",
    "dfs = []\n",
    "path = '/home/ndg/users/sbagga1/unpalatable-questions/data_csvs/'\n",
    "for fname in os.listdir(path):\n",
    "    df = pd.read_csv(path+fname, lineterminator='\\n')\n",
    "    \n",
    "    # Sanity check: make sure the line_terminator of Pandas doesn't mess things up\n",
    "    number_of_rows = int(fname.split('.')[0].split('_')[-1]) # no. of rows there should be\n",
    "    if df.shape[0] != number_of_rows:\n",
    "        sys.exit(\"lineterminator Error: CSV not read properly\")\n",
    "        \n",
    "    print(\"{} has {} rows\".format(fname, df.shape))\n",
    "    \n",
    "    dfs.append(df)\n",
    "    \n",
    "print(\"TestQuestios.csv has {} rows\".format(tq_df.shape))\n",
    "dfs.append(tq_df)\n",
    "MAIN_DF = pd.concat(dfs)\n",
    "print(\"Before removing duplicates: \", MAIN_DF.shape)\n",
    "MAIN_DF.drop_duplicates(subset='reply_id', inplace=True)\n",
    "print(\"Final shape: \", MAIN_DF.shape)\n",
    "MAIN_DF.head(2)"
   ]
  },
  {
   "cell_type": "markdown",
   "metadata": {},
   "source": [
    "### 1. Descriptive Stats\n",
    "- Batch 1 = 100 HITs | Batch 2 = 400 HITs | Batch 3 = 700 HITs\n",
    "- Note: the 50 extra rows in the DataFrame correspond to the 5 HITs that I approved in batch 1 (after overriding rejections)"
   ]
  },
  {
   "cell_type": "code",
   "execution_count": 4,
   "metadata": {},
   "outputs": [
    {
     "name": "stdout",
     "output_type": "stream",
     "text": [
      "(60050, 5)\n"
     ]
    },
    {
     "data": {
      "text/html": [
       "<div>\n",
       "<style scoped>\n",
       "    .dataframe tbody tr th:only-of-type {\n",
       "        vertical-align: middle;\n",
       "    }\n",
       "\n",
       "    .dataframe tbody tr th {\n",
       "        vertical-align: top;\n",
       "    }\n",
       "\n",
       "    .dataframe thead th {\n",
       "        text-align: right;\n",
       "    }\n",
       "</style>\n",
       "<table border=\"1\" class=\"dataframe\">\n",
       "  <thead>\n",
       "    <tr style=\"text-align: right;\">\n",
       "      <th></th>\n",
       "      <th>Reply ID</th>\n",
       "      <th>Label</th>\n",
       "      <th>Worker ID</th>\n",
       "      <th>Accuracy</th>\n",
       "      <th># Assignments</th>\n",
       "    </tr>\n",
       "  </thead>\n",
       "  <tbody>\n",
       "    <tr>\n",
       "      <th>60045</th>\n",
       "      <td>d1i3e82</td>\n",
       "      <td>yes_unpalatable</td>\n",
       "      <td>AA9V4NE8SOA4I</td>\n",
       "      <td>90.666667</td>\n",
       "      <td>65</td>\n",
       "    </tr>\n",
       "    <tr>\n",
       "      <th>60046</th>\n",
       "      <td>d1ggmxd</td>\n",
       "      <td>yes_unpalatable</td>\n",
       "      <td>AA9V4NE8SOA4I</td>\n",
       "      <td>90.666667</td>\n",
       "      <td>65</td>\n",
       "    </tr>\n",
       "    <tr>\n",
       "      <th>60047</th>\n",
       "      <td>d13dzba</td>\n",
       "      <td>not_unpalatable</td>\n",
       "      <td>AA9V4NE8SOA4I</td>\n",
       "      <td>90.666667</td>\n",
       "      <td>65</td>\n",
       "    </tr>\n",
       "    <tr>\n",
       "      <th>60048</th>\n",
       "      <td>d1kqnfo</td>\n",
       "      <td>not_unpalatable</td>\n",
       "      <td>AA9V4NE8SOA4I</td>\n",
       "      <td>90.666667</td>\n",
       "      <td>65</td>\n",
       "    </tr>\n",
       "    <tr>\n",
       "      <th>60049</th>\n",
       "      <td>d192jvs</td>\n",
       "      <td>not_unpalatable</td>\n",
       "      <td>AA9V4NE8SOA4I</td>\n",
       "      <td>90.666667</td>\n",
       "      <td>65</td>\n",
       "    </tr>\n",
       "  </tbody>\n",
       "</table>\n",
       "</div>"
      ],
      "text/plain": [
       "      Reply ID            Label      Worker ID   Accuracy  # Assignments\n",
       "60045  d1i3e82  yes_unpalatable  AA9V4NE8SOA4I  90.666667  65           \n",
       "60046  d1ggmxd  yes_unpalatable  AA9V4NE8SOA4I  90.666667  65           \n",
       "60047  d13dzba  not_unpalatable  AA9V4NE8SOA4I  90.666667  65           \n",
       "60048  d1kqnfo  not_unpalatable  AA9V4NE8SOA4I  90.666667  65           \n",
       "60049  d192jvs  not_unpalatable  AA9V4NE8SOA4I  90.666667  65           "
      ]
     },
     "execution_count": 4,
     "metadata": {},
     "output_type": "execute_result"
    }
   ],
   "source": [
    "mturk_df = pd.read_csv('/home/ndg/users/sbagga1/unpalatable-questions/crowdsourcing/annotations/\\\n",
    "annotations_batch_1_2_3.tsv', delimiter='\\t')\n",
    "print(mturk_df.shape)\n",
    "mturk_df.tail()"
   ]
  },
  {
   "cell_type": "code",
   "execution_count": 5,
   "metadata": {},
   "outputs": [
    {
     "data": {
      "text/plain": [
       "[('A2JP8W265WCC35', 83.3333333333),\n",
       " ('AGTV2SNFKXB11', 96.0784313725),\n",
       " ('AQORJW4W8U9YU', 84.9056603774),\n",
       " ('A2FOSCVIPOEZ1K', 100.0),\n",
       " ('A82VN0BRUIMNO', 85.7142857143)]"
      ]
     },
     "execution_count": 5,
     "metadata": {},
     "output_type": "execute_result"
    }
   ],
   "source": [
    "worker_acc = dict(set([tuple(x) for x in mturk_df[['Worker ID', 'Accuracy']].values]))\n",
    "list(worker_acc.items())[:5]"
   ]
  },
  {
   "cell_type": "code",
   "execution_count": 6,
   "metadata": {},
   "outputs": [
    {
     "data": {
      "text/plain": [
       "ARVXIBUCA8WDZ     3970\n",
       "AA5OOUN82FYES     3910\n",
       "A3PL82B5IPX31O    3740\n",
       "A2P065E9CYMYJL    2980\n",
       "AKVDY8OXNMQED     2220\n",
       "Name: Worker ID, dtype: int64"
      ]
     },
     "execution_count": 6,
     "metadata": {},
     "output_type": "execute_result"
    }
   ],
   "source": [
    "mturk_df['Worker ID'].value_counts()[:5]"
   ]
  },
  {
   "cell_type": "code",
   "execution_count": 7,
   "metadata": {},
   "outputs": [
    {
     "data": {
      "text/plain": [
       "count     60050        \n",
       "unique    138          \n",
       "top       ARVXIBUCA8WDZ\n",
       "freq      3970         \n",
       "Name: Worker ID, dtype: object"
      ]
     },
     "execution_count": 7,
     "metadata": {},
     "output_type": "execute_result"
    }
   ],
   "source": [
    "mturk_df['Worker ID'].describe()"
   ]
  },
  {
   "cell_type": "code",
   "execution_count": 8,
   "metadata": {},
   "outputs": [
    {
     "data": {
      "text/plain": [
       "count     60050  \n",
       "unique    10909  \n",
       "top       d0naqgg\n",
       "freq      31     \n",
       "Name: Reply ID, dtype: object"
      ]
     },
     "execution_count": 8,
     "metadata": {},
     "output_type": "execute_result"
    }
   ],
   "source": [
    "mturk_df['Reply ID'].describe()"
   ]
  },
  {
   "cell_type": "code",
   "execution_count": 9,
   "metadata": {},
   "outputs": [
    {
     "name": "stdout",
     "output_type": "stream",
     "text": [
      "count     60050          \n",
      "unique    2              \n",
      "top       not_unpalatable\n",
      "freq      45609          \n",
      "Name: Label, dtype: object \n",
      "\n",
      "not_unpalatable    45609\n",
      "yes_unpalatable    14441\n",
      "Name: Label, dtype: int64\n"
     ]
    }
   ],
   "source": [
    "print(mturk_df['Label'].describe(), \"\\n\")\n",
    "print(mturk_df['Label'].value_counts())"
   ]
  },
  {
   "cell_type": "code",
   "execution_count": 10,
   "metadata": {},
   "outputs": [
    {
     "data": {
      "text/plain": [
       "count    60050.000000\n",
       "mean     90.770908   \n",
       "std      4.351849    \n",
       "min      81.250000   \n",
       "25%      85.937500   \n",
       "50%      91.428571   \n",
       "75%      94.197952   \n",
       "max      100.000000  \n",
       "Name: Accuracy, dtype: float64"
      ]
     },
     "execution_count": 10,
     "metadata": {},
     "output_type": "execute_result"
    }
   ],
   "source": [
    "mturk_df['Accuracy'].describe()"
   ]
  },
  {
   "cell_type": "markdown",
   "metadata": {},
   "source": [
    "### 2. Aggregate annotations with confidence\n",
    "- Not skipping Test Questions: taking the crowd's wisdom on those too"
   ]
  },
  {
   "cell_type": "code",
   "execution_count": 11,
   "metadata": {},
   "outputs": [],
   "source": [
    "def cap_confidence(conf): # Makes sure that confidence is one of three values\n",
    "    if conf >= 0.5 and conf < 0.7:\n",
    "        conf = 0.6\n",
    "    elif conf >= 0.7 and conf < 0.9:\n",
    "        conf = 0.8\n",
    "    elif conf >= 0.9:\n",
    "        conf = 1.0\n",
    "    else:\n",
    "        print(\"Error: Invalid confidence value\", conf)\n",
    "    return conf\n",
    "\n",
    "map_replyID_labels = defaultdict(list) # Maps reply ID to a list of strings ('yes_unp', 'not_unp')\n",
    "\n",
    "for tup in mturk_df.values:\n",
    "    reply_id, label, worker_id, accuracy, n_assgn = tup\n",
    "    map_replyID_labels[reply_id].append(label)\n",
    "    \n",
    "map_replyID_majority = {} # Maps reply ID to (label, confidence)\n",
    "\n",
    "for ID, labels in map_replyID_labels.items():\n",
    "#     if ID in TEST_QUESTIONS: # Skip test questions\n",
    "#         continue\n",
    "    \n",
    "    vote_yes = 0.0; vote_not = 0.0\n",
    "    for l in labels:\n",
    "        if l == 'yes_unpalatable':\n",
    "            vote_yes += 1\n",
    "        elif l == 'not_unpalatable':\n",
    "            vote_not += 1\n",
    "        else:\n",
    "            print(\"BUG IN CODE\")\n",
    "    if vote_yes > vote_not:\n",
    "        conf = vote_yes/len(labels)\n",
    "        map_replyID_majority[ID] = ('yes_unpalatable', cap_confidence(conf))\n",
    "    else: # equal votes are not_unpalatable\n",
    "        conf = vote_not/len(labels)\n",
    "        map_replyID_majority[ID] = ('not_unpalatable', cap_confidence(conf))"
   ]
  },
  {
   "cell_type": "code",
   "execution_count": 12,
   "metadata": {},
   "outputs": [
    {
     "name": "stdout",
     "output_type": "stream",
     "text": [
      "(10909, 3)\n"
     ]
    },
    {
     "data": {
      "text/html": [
       "<div>\n",
       "<style scoped>\n",
       "    .dataframe tbody tr th:only-of-type {\n",
       "        vertical-align: middle;\n",
       "    }\n",
       "\n",
       "    .dataframe tbody tr th {\n",
       "        vertical-align: top;\n",
       "    }\n",
       "\n",
       "    .dataframe thead th {\n",
       "        text-align: right;\n",
       "    }\n",
       "</style>\n",
       "<table border=\"1\" class=\"dataframe\">\n",
       "  <thead>\n",
       "    <tr style=\"text-align: right;\">\n",
       "      <th></th>\n",
       "      <th>reply_id</th>\n",
       "      <th>label</th>\n",
       "      <th>confidence</th>\n",
       "    </tr>\n",
       "  </thead>\n",
       "  <tbody>\n",
       "    <tr>\n",
       "      <th>0</th>\n",
       "      <td>cyvwdqp</td>\n",
       "      <td>yes_unpalatable</td>\n",
       "      <td>0.6</td>\n",
       "    </tr>\n",
       "    <tr>\n",
       "      <th>1</th>\n",
       "      <td>czykv63</td>\n",
       "      <td>not_unpalatable</td>\n",
       "      <td>1.0</td>\n",
       "    </tr>\n",
       "    <tr>\n",
       "      <th>2</th>\n",
       "      <td>czrbxyh</td>\n",
       "      <td>not_unpalatable</td>\n",
       "      <td>1.0</td>\n",
       "    </tr>\n",
       "    <tr>\n",
       "      <th>3</th>\n",
       "      <td>d18ebdl</td>\n",
       "      <td>not_unpalatable</td>\n",
       "      <td>1.0</td>\n",
       "    </tr>\n",
       "    <tr>\n",
       "      <th>4</th>\n",
       "      <td>d1q5sa4</td>\n",
       "      <td>not_unpalatable</td>\n",
       "      <td>1.0</td>\n",
       "    </tr>\n",
       "  </tbody>\n",
       "</table>\n",
       "</div>"
      ],
      "text/plain": [
       "  reply_id            label  confidence\n",
       "0  cyvwdqp  yes_unpalatable  0.6       \n",
       "1  czykv63  not_unpalatable  1.0       \n",
       "2  czrbxyh  not_unpalatable  1.0       \n",
       "3  d18ebdl  not_unpalatable  1.0       \n",
       "4  d1q5sa4  not_unpalatable  1.0       "
      ]
     },
     "execution_count": 12,
     "metadata": {},
     "output_type": "execute_result"
    }
   ],
   "source": [
    "df = pd.DataFrame.from_dict(map_replyID_majority, orient='index')\n",
    "df.reset_index(inplace=True)\n",
    "df.columns = ['reply_id', 'label', 'confidence']\n",
    "print(df.shape)\n",
    "df.head()"
   ]
  },
  {
   "cell_type": "code",
   "execution_count": 13,
   "metadata": {},
   "outputs": [
    {
     "data": {
      "text/plain": [
       "1.0    5735\n",
       "0.8    2971\n",
       "0.6    2203\n",
       "Name: confidence, dtype: int64"
      ]
     },
     "execution_count": 13,
     "metadata": {},
     "output_type": "execute_result"
    }
   ],
   "source": [
    "df['confidence'].value_counts()"
   ]
  },
  {
   "cell_type": "markdown",
   "metadata": {},
   "source": [
    "### 3. Map IDs to reply/comment text"
   ]
  },
  {
   "cell_type": "code",
   "execution_count": 14,
   "metadata": {},
   "outputs": [
    {
     "name": "stdout",
     "output_type": "stream",
     "text": [
      "(10909, 8)\n"
     ]
    },
    {
     "data": {
      "text/html": [
       "<div>\n",
       "<style scoped>\n",
       "    .dataframe tbody tr th:only-of-type {\n",
       "        vertical-align: middle;\n",
       "    }\n",
       "\n",
       "    .dataframe tbody tr th {\n",
       "        vertical-align: top;\n",
       "    }\n",
       "\n",
       "    .dataframe thead th {\n",
       "        text-align: right;\n",
       "    }\n",
       "</style>\n",
       "<table border=\"1\" class=\"dataframe\">\n",
       "  <thead>\n",
       "    <tr style=\"text-align: right;\">\n",
       "      <th></th>\n",
       "      <th>question</th>\n",
       "      <th>reply_text</th>\n",
       "      <th>comment_text</th>\n",
       "      <th>comment_id</th>\n",
       "      <th>reply_id</th>\n",
       "      <th>subreddit</th>\n",
       "      <th>label</th>\n",
       "      <th>confidence</th>\n",
       "    </tr>\n",
       "  </thead>\n",
       "  <tbody>\n",
       "    <tr>\n",
       "      <th>10907</th>\n",
       "      <td>How old is it now?</td>\n",
       "      <td>How old is it now?</td>\n",
       "      <td>My dad has a racoon his aunt gave him and wouldn't get rid of that for the world.</td>\n",
       "      <td>cyn66my</td>\n",
       "      <td>cyn9kot</td>\n",
       "      <td>cringepics</td>\n",
       "      <td>not_unpalatable</td>\n",
       "      <td>1.0</td>\n",
       "    </tr>\n",
       "    <tr>\n",
       "      <th>10908</th>\n",
       "      <td>lol what?</td>\n",
       "      <td>lol what? I meant whatever rep they're going to vote for or whatever. If I was running for something, I'd definitely not want people \"supporting me\" talking like that. The comment was deleted. Obviously not a proud moment.</td>\n",
       "      <td>the rep? lol ok so you are from r/conspiracy</td>\n",
       "      <td>czskrtt</td>\n",
       "      <td>czug2bo</td>\n",
       "      <td>cringe</td>\n",
       "      <td>not_unpalatable</td>\n",
       "      <td>0.8</td>\n",
       "    </tr>\n",
       "  </tbody>\n",
       "</table>\n",
       "</div>"
      ],
      "text/plain": [
       "                 question  \\\n",
       "10907  How old is it now?   \n",
       "10908  lol what?            \n",
       "\n",
       "                                                                                                                                                                                                                           reply_text  \\\n",
       "10907  How old is it now?                                                                                                                                                                                                               \n",
       "10908  lol what? I meant whatever rep they're going to vote for or whatever. If I was running for something, I'd definitely not want people \"supporting me\" talking like that. The comment was deleted. Obviously not a proud moment.   \n",
       "\n",
       "                                                                            comment_text  \\\n",
       "10907  My dad has a racoon his aunt gave him and wouldn't get rid of that for the world.   \n",
       "10908  the rep? lol ok so you are from r/conspiracy                                        \n",
       "\n",
       "      comment_id reply_id   subreddit            label  confidence  \n",
       "10907  cyn66my    cyn9kot  cringepics  not_unpalatable  1.0         \n",
       "10908  czskrtt    czug2bo  cringe      not_unpalatable  0.8         "
      ]
     },
     "execution_count": 14,
     "metadata": {},
     "output_type": "execute_result"
    }
   ],
   "source": [
    "output_df = df.merge(MAIN_DF, on='reply_id', how='inner')\n",
    "print(output_df.shape)\n",
    "output_df = output_df[['question', 'reply_text', 'comment_text', 'comment_id', 'reply_id', 'subreddit', \n",
    "                       'label', 'confidence']]\n",
    "output_df.tail(2)"
   ]
  },
  {
   "cell_type": "code",
   "execution_count": 15,
   "metadata": {},
   "outputs": [
    {
     "data": {
      "text/plain": [
       "not_unpalatable    8992\n",
       "yes_unpalatable    1917\n",
       "Name: label, dtype: int64"
      ]
     },
     "execution_count": 15,
     "metadata": {},
     "output_type": "execute_result"
    }
   ],
   "source": [
    "output_df['label'].value_counts()"
   ]
  },
  {
   "cell_type": "code",
   "execution_count": 16,
   "metadata": {},
   "outputs": [
    {
     "data": {
      "text/plain": [
       "1.0    5735\n",
       "0.8    2971\n",
       "0.6    2203\n",
       "Name: confidence, dtype: int64"
      ]
     },
     "execution_count": 16,
     "metadata": {},
     "output_type": "execute_result"
    }
   ],
   "source": [
    "output_df['confidence'].value_counts()"
   ]
  },
  {
   "cell_type": "code",
   "execution_count": 17,
   "metadata": {},
   "outputs": [
    {
     "data": {
      "text/plain": [
       "The_Donald              762\n",
       "cringepics              761\n",
       "Conservative            760\n",
       "PoliticalDiscussion     760\n",
       "politics                760\n",
       "cringe                  750\n",
       "ImGoingToHellForThis    710\n",
       "4chan                   708\n",
       "hockey                  708\n",
       "TumblrInAction          707\n",
       "KotakuInAction          707\n",
       "nfl                     707\n",
       "nba                     704\n",
       "CringeAnarchy           703\n",
       "sports                  700\n",
       "fake_subreddit          2  \n",
       "Name: subreddit, dtype: int64"
      ]
     },
     "execution_count": 17,
     "metadata": {},
     "output_type": "execute_result"
    }
   ],
   "source": [
    "output_df['subreddit'].value_counts()"
   ]
  },
  {
   "cell_type": "code",
   "execution_count": 18,
   "metadata": {},
   "outputs": [
    {
     "data": {
      "text/plain": [
       "not_unpalatable    1324\n",
       "yes_unpalatable    879 \n",
       "Name: label, dtype: int64"
      ]
     },
     "execution_count": 18,
     "metadata": {},
     "output_type": "execute_result"
    }
   ],
   "source": [
    "conf = 0.6\n",
    "output_df.loc[output_df['confidence']==conf]['label'].value_counts()"
   ]
  },
  {
   "cell_type": "code",
   "execution_count": 19,
   "metadata": {},
   "outputs": [],
   "source": [
    "## output_df.to_csv('/home/ndg/users/sbagga1/unpalatable-questions/crowdsourcing/annotations/\\\n",
    "## annotations_UQ.csv', line_terminator='\\n', index=None)"
   ]
  },
  {
   "cell_type": "markdown",
   "metadata": {},
   "source": [
    "## Prepare Test Question Report and Misc. info on Workers"
   ]
  },
  {
   "cell_type": "code",
   "execution_count": 20,
   "metadata": {},
   "outputs": [],
   "source": [
    "def tq_report_misc_info(monitor_logger):\n",
    "    \"\"\"\n",
    "    Returns a dictionary that maps the Test Question reply_id to a list of workers who missed that TQ\n",
    "    Prints some other Misc. info\n",
    "    \"\"\"\n",
    "    map_tq_workers = defaultdict(list)\n",
    "\n",
    "    revoked_worker_ids = set()\n",
    "    all_worker_ids = set()\n",
    "\n",
    "    with open(monitor_logger, 'r') as f:\n",
    "        data = f.readlines()\n",
    "\n",
    "    count = 0\n",
    "    for row in data:\n",
    "        elements = row.split('-')\n",
    "        \n",
    "        # Count approved assignments:\n",
    "        if 'Approved' in row:\n",
    "            count += 1\n",
    "\n",
    "        # Count total number of Workers:\n",
    "        if elements[0].strip() == 'INFO' and elements[-1].strip().startswith('Worker'):\n",
    "            all_worker_ids.add((elements[-1].split()[1]))\n",
    "\n",
    "        # Prepare test questions missed:\n",
    "        if elements[0].strip() == 'INFO' and elements[-1].strip().startswith('Test Question Missed'):\n",
    "            first, second = elements[-1].split('|')\n",
    "            tq_id = first.split(':')[-1].strip()\n",
    "            worker_id = second.split(':')[-1].strip()\n",
    "            map_tq_workers[tq_id].append(worker_id)\n",
    "\n",
    "        # Count number of qualifications revoked\n",
    "        if elements[0].strip() == 'WARNING' and elements[-1].strip().startswith('REVOKED'):\n",
    "            revoked_worker_ids.add(elements[-1].split()[-1])\n",
    "\n",
    "\n",
    "    if len(revoked_worker_ids) != len(set(revoked_worker_ids)):\n",
    "        print(\"ERROR in extracting revoked workers.\")\n",
    "\n",
    "    print(\"Approved {} assignments in total\".format(count))\n",
    "    print(\"Total number of workers = {} | Revoked qualification of {} workers\".format(len(all_worker_ids), \n",
    "                                                                                      len(revoked_worker_ids)))\n",
    "    return map_tq_workers"
   ]
  },
  {
   "cell_type": "markdown",
   "metadata": {},
   "source": [
    "### Batch 1:"
   ]
  },
  {
   "cell_type": "code",
   "execution_count": 23,
   "metadata": {},
   "outputs": [
    {
     "name": "stdout",
     "output_type": "stream",
     "text": [
      "Approved 500 assignments in total\n",
      "Total number of workers = 25 | Revoked qualification of 8 workers\n",
      "Total Test Questions:  (350, 7)\n"
     ]
    },
    {
     "data": {
      "text/html": [
       "<div>\n",
       "<style scoped>\n",
       "    .dataframe tbody tr th:only-of-type {\n",
       "        vertical-align: middle;\n",
       "    }\n",
       "\n",
       "    .dataframe tbody tr th {\n",
       "        vertical-align: top;\n",
       "    }\n",
       "\n",
       "    .dataframe thead th {\n",
       "        text-align: right;\n",
       "    }\n",
       "</style>\n",
       "<table border=\"1\" class=\"dataframe\">\n",
       "  <thead>\n",
       "    <tr style=\"text-align: right;\">\n",
       "      <th></th>\n",
       "      <th>question</th>\n",
       "      <th>reply_text</th>\n",
       "      <th>comment_text</th>\n",
       "      <th>comment_id</th>\n",
       "      <th>reply_id</th>\n",
       "      <th>subreddit</th>\n",
       "      <th>label</th>\n",
       "    </tr>\n",
       "  </thead>\n",
       "  <tbody>\n",
       "    <tr>\n",
       "      <th>6</th>\n",
       "      <td>What the hell does that mean?</td>\n",
       "      <td>\"Constitutionalists\". What the hell does that mean?</td>\n",
       "      <td>The court should be entirely constitutionalists. That's the only extremity I want. I think Garland is a solid choice. I also think that if he genuinely wants Garland in, then he is actually trying to reach across the aisle and end his presidency on a good note. Because he could have picked a more leftist-moderate judge.</td>\n",
       "      <td>d1yb0ag</td>\n",
       "      <td>d1yeban</td>\n",
       "      <td>PoliticalDiscussion</td>\n",
       "      <td>yes_unpalatable</td>\n",
       "    </tr>\n",
       "    <tr>\n",
       "      <th>7</th>\n",
       "      <td>Why the fuck would I torture myself by watching the entirety of republican debates?</td>\n",
       "      <td>Why the fuck would I torture myself by watching the entirety of republican debates? And if he said something different, then he's flip flopping on his previous statements about banning ALL Muslims. And you can't erase a section of time and the impact it's had on racists and bigots because you say something different the next week.</td>\n",
       "      <td>Those are just sound bites taken out of contex. Did you even watch the debates where he explained more about his muslim ban or about mexicans? Cause it sounds you didnt.</td>\n",
       "      <td>d0wmy9w</td>\n",
       "      <td>d0x41nk</td>\n",
       "      <td>PoliticalDiscussion</td>\n",
       "      <td>yes_unpalatable</td>\n",
       "    </tr>\n",
       "    <tr>\n",
       "      <th>85</th>\n",
       "      <td>Why was this guy so bad?</td>\n",
       "      <td>I see. It's funny. In the beginning, all the noise about \"fuck Donald trump\" got me curious. Why was this guy so bad? What did he do that warrants this hatred. \\r\\rSo I looked into myself and not only did I find no justification for the hate, I came out a supporter for Trump.</td>\n",
       "      <td>I would assume fuck donald trump</td>\n",
       "      <td>d2m6uut</td>\n",
       "      <td>d2m7fcp</td>\n",
       "      <td>The_Donald</td>\n",
       "      <td>not_unpalatable</td>\n",
       "    </tr>\n",
       "  </tbody>\n",
       "</table>\n",
       "</div>"
      ],
      "text/plain": [
       "                                                                               question  \\\n",
       "6   What the hell does that mean?                                                         \n",
       "7   Why the fuck would I torture myself by watching the entirety of republican debates?   \n",
       "85  Why was this guy so bad?                                                              \n",
       "\n",
       "                                                                                                                                                                                                                                                                                                                                      reply_text  \\\n",
       "6   \"Constitutionalists\". What the hell does that mean?                                                                                                                                                                                                                                                                                            \n",
       "7   Why the fuck would I torture myself by watching the entirety of republican debates? And if he said something different, then he's flip flopping on his previous statements about banning ALL Muslims. And you can't erase a section of time and the impact it's had on racists and bigots because you say something different the next week.   \n",
       "85  I see. It's funny. In the beginning, all the noise about \"fuck Donald trump\" got me curious. Why was this guy so bad? What did he do that warrants this hatred. \\r\\rSo I looked into myself and not only did I find no justification for the hate, I came out a supporter for Trump.                                                           \n",
       "\n",
       "                                                                                                                                                                                                                                                                                                                         comment_text  \\\n",
       "6   The court should be entirely constitutionalists. That's the only extremity I want. I think Garland is a solid choice. I also think that if he genuinely wants Garland in, then he is actually trying to reach across the aisle and end his presidency on a good note. Because he could have picked a more leftist-moderate judge.   \n",
       "7   Those are just sound bites taken out of contex. Did you even watch the debates where he explained more about his muslim ban or about mexicans? Cause it sounds you didnt.                                                                                                                                                           \n",
       "85  I would assume fuck donald trump                                                                                                                                                                                                                                                                                                    \n",
       "\n",
       "   comment_id reply_id            subreddit            label  \n",
       "6   d1yb0ag    d1yeban  PoliticalDiscussion  yes_unpalatable  \n",
       "7   d0wmy9w    d0x41nk  PoliticalDiscussion  yes_unpalatable  \n",
       "85  d2m6uut    d2m7fcp  The_Donald           not_unpalatable  "
      ]
     },
     "execution_count": 23,
     "metadata": {},
     "output_type": "execute_result"
    }
   ],
   "source": [
    "# Check out problematic Test Questions missed 'THRESHOLD' times:\n",
    "THRESHOLD = 1\n",
    "\n",
    "monitor_logger = '/home/ndg/users/sbagga1/unpalatable-questions/crowdsourcing/logs/batch-1/\\\n",
    "MTurk_monitor_HITs_batch1.log'\n",
    "map_tq_workers = tq_report_misc_info(monitor_logger)\n",
    "\n",
    "problematic_tqs = []\n",
    "for tq in map_tq_workers:\n",
    "    if len(map_tq_workers[tq]) > THRESHOLD:\n",
    "        problematic_tqs.append(tq)\n",
    "        \n",
    "\n",
    "tq_df = pd.read_csv('/home/ndg/users/sbagga1/unpalatable-questions/crowdsourcing/data/TestQuestions.csv',\n",
    "                   lineterminator='\\n')\n",
    "print(\"Total Test Questions: \", tq_df.shape)\n",
    "\n",
    "tq_df.loc[tq_df['reply_id'].isin(problematic_tqs)]"
   ]
  },
  {
   "cell_type": "markdown",
   "metadata": {},
   "source": [
    "### Batch 2:"
   ]
  },
  {
   "cell_type": "code",
   "execution_count": 25,
   "metadata": {
    "scrolled": false
   },
   "outputs": [
    {
     "name": "stdout",
     "output_type": "stream",
     "text": [
      "Approved 2000 assignments in total\n",
      "Total number of workers = 58 | Revoked qualification of 8 workers\n",
      "Total Test Questions:  (350, 7)\n",
      "['czx1w15', 'd2i9gcm', 'd0n8x7a', 'd24ay0p']\n"
     ]
    },
    {
     "data": {
      "text/html": [
       "<div>\n",
       "<style scoped>\n",
       "    .dataframe tbody tr th:only-of-type {\n",
       "        vertical-align: middle;\n",
       "    }\n",
       "\n",
       "    .dataframe tbody tr th {\n",
       "        vertical-align: top;\n",
       "    }\n",
       "\n",
       "    .dataframe thead th {\n",
       "        text-align: right;\n",
       "    }\n",
       "</style>\n",
       "<table border=\"1\" class=\"dataframe\">\n",
       "  <thead>\n",
       "    <tr style=\"text-align: right;\">\n",
       "      <th></th>\n",
       "      <th>question</th>\n",
       "      <th>reply_text</th>\n",
       "      <th>comment_text</th>\n",
       "      <th>comment_id</th>\n",
       "      <th>reply_id</th>\n",
       "      <th>subreddit</th>\n",
       "      <th>label</th>\n",
       "    </tr>\n",
       "  </thead>\n",
       "  <tbody>\n",
       "    <tr>\n",
       "      <th>5</th>\n",
       "      <td>Did you read what I wrote at all?</td>\n",
       "      <td>Did you read what I wrote at all?\\rThe 42% is inflated like the 5% number produced was deflated.\\rTrump was making a point there. In truth the actual unemployment rate is between Sanders 10% and Trumps 42%</td>\n",
       "      <td>You forgot to include children. Children use to have to work to earn their keep. What kind of Liberal claptrap says that shouldn't still be the case?</td>\n",
       "      <td>czx1s9c</td>\n",
       "      <td>czx1w15</td>\n",
       "      <td>politics</td>\n",
       "      <td>yes_unpalatable</td>\n",
       "    </tr>\n",
       "    <tr>\n",
       "      <th>73</th>\n",
       "      <td>What, did you expect him to kill his dog *after* he killed himself?</td>\n",
       "      <td>What, did you expect him to kill his dog *after* he killed himself?</td>\n",
       "      <td>Well he killed his dog before killing himself so not true..</td>\n",
       "      <td>d2hvd1z</td>\n",
       "      <td>d2i9gcm</td>\n",
       "      <td>ImGoingToHellForThis</td>\n",
       "      <td>yes_unpalatable</td>\n",
       "    </tr>\n",
       "    <tr>\n",
       "      <th>88</th>\n",
       "      <td>How was I supposed to know you were an immigrant?</td>\n",
       "      <td>Wow your even more dumb than I thought. How was I supposed to know you were an immigrant? Please explain. Either way an immigrant supporting Donald Trump is hilarious!</td>\n",
       "      <td>Mhm... Discrediting immigrants. You will feel at home over at r/s4p\\r\\rFucking racist asshole</td>\n",
       "      <td>d0n3r7x</td>\n",
       "      <td>d0n8x7a</td>\n",
       "      <td>The_Donald</td>\n",
       "      <td>yes_unpalatable</td>\n",
       "    </tr>\n",
       "    <tr>\n",
       "      <th>106</th>\n",
       "      <td>Is it?</td>\n",
       "      <td>Is it? Well I feel the same of you so at least we have that in common.</td>\n",
       "      <td>Its outstanding how stupid this opinion is.</td>\n",
       "      <td>d24atah</td>\n",
       "      <td>d24ay0p</td>\n",
       "      <td>cringe</td>\n",
       "      <td>yes_unpalatable</td>\n",
       "    </tr>\n",
       "  </tbody>\n",
       "</table>\n",
       "</div>"
      ],
      "text/plain": [
       "                                                                question  \\\n",
       "5    Did you read what I wrote at all?                                     \n",
       "73   What, did you expect him to kill his dog *after* he killed himself?   \n",
       "88   How was I supposed to know you were an immigrant?                     \n",
       "106  Is it?                                                                \n",
       "\n",
       "                                                                                                                                                                                                        reply_text  \\\n",
       "5    Did you read what I wrote at all?\\rThe 42% is inflated like the 5% number produced was deflated.\\rTrump was making a point there. In truth the actual unemployment rate is between Sanders 10% and Trumps 42%   \n",
       "73   What, did you expect him to kill his dog *after* he killed himself?                                                                                                                                             \n",
       "88   Wow your even more dumb than I thought. How was I supposed to know you were an immigrant? Please explain. Either way an immigrant supporting Donald Trump is hilarious!                                         \n",
       "106  Is it? Well I feel the same of you so at least we have that in common.                                                                                                                                          \n",
       "\n",
       "                                                                                                                                              comment_text  \\\n",
       "5    You forgot to include children. Children use to have to work to earn their keep. What kind of Liberal claptrap says that shouldn't still be the case?   \n",
       "73   Well he killed his dog before killing himself so not true..                                                                                             \n",
       "88   Mhm... Discrediting immigrants. You will feel at home over at r/s4p\\r\\rFucking racist asshole                                                           \n",
       "106  Its outstanding how stupid this opinion is.                                                                                                             \n",
       "\n",
       "    comment_id reply_id             subreddit            label  \n",
       "5    czx1s9c    czx1w15  politics              yes_unpalatable  \n",
       "73   d2hvd1z    d2i9gcm  ImGoingToHellForThis  yes_unpalatable  \n",
       "88   d0n3r7x    d0n8x7a  The_Donald            yes_unpalatable  \n",
       "106  d24atah    d24ay0p  cringe                yes_unpalatable  "
      ]
     },
     "execution_count": 25,
     "metadata": {},
     "output_type": "execute_result"
    }
   ],
   "source": [
    "# Check out problematic Test Questions missed 'THRESHOLD' times:\n",
    "THRESHOLD = 3\n",
    "\n",
    "monitor_logger = '/home/ndg/users/sbagga1/unpalatable-questions/crowdsourcing/logs/batch-2/\\\n",
    "MTurk_monitor_HITs_batch2.log'\n",
    "map_tq_workers = tq_report_misc_info(monitor_logger)\n",
    "\n",
    "problematic_tqs = []\n",
    "for tq in map_tq_workers:\n",
    "    if len(map_tq_workers[tq]) > THRESHOLD:\n",
    "        problematic_tqs.append(tq)\n",
    "        \n",
    "\n",
    "tq_df = pd.read_csv('/home/ndg/users/sbagga1/unpalatable-questions/crowdsourcing/data/TestQuestions.csv',\n",
    "                   lineterminator='\\n')\n",
    "print(\"Total Test Questions: \", tq_df.shape)\n",
    "\n",
    "blah = tq_df.loc[tq_df['reply_id'].isin(problematic_tqs)]\n",
    "print(blah['reply_id'].tolist())\n",
    "blah"
   ]
  },
  {
   "cell_type": "markdown",
   "metadata": {},
   "source": [
    "### Batch 3:"
   ]
  },
  {
   "cell_type": "code",
   "execution_count": 28,
   "metadata": {},
   "outputs": [
    {
     "name": "stdout",
     "output_type": "stream",
     "text": [
      "Approved 3500 assignments in total\n",
      "Total number of workers = 88 | Revoked qualification of 28 workers\n",
      "Total Test Questions:  (350, 7)\n",
      "['czyy7cu', 'd24ay0p', 'd2axdvn', 'd0v7l4c', 'd0w6b8j', 'd1ki3fi', 'd029e0w']\n"
     ]
    },
    {
     "data": {
      "text/html": [
       "<div>\n",
       "<style scoped>\n",
       "    .dataframe tbody tr th:only-of-type {\n",
       "        vertical-align: middle;\n",
       "    }\n",
       "\n",
       "    .dataframe tbody tr th {\n",
       "        vertical-align: top;\n",
       "    }\n",
       "\n",
       "    .dataframe thead th {\n",
       "        text-align: right;\n",
       "    }\n",
       "</style>\n",
       "<table border=\"1\" class=\"dataframe\">\n",
       "  <thead>\n",
       "    <tr style=\"text-align: right;\">\n",
       "      <th></th>\n",
       "      <th>question</th>\n",
       "      <th>reply_text</th>\n",
       "      <th>comment_text</th>\n",
       "      <th>comment_id</th>\n",
       "      <th>reply_id</th>\n",
       "      <th>subreddit</th>\n",
       "      <th>label</th>\n",
       "    </tr>\n",
       "  </thead>\n",
       "  <tbody>\n",
       "    <tr>\n",
       "      <th>101</th>\n",
       "      <td>Is this part of that \"enlightened liberal tolerance\" that I hear so much about?</td>\n",
       "      <td>Is this part of that \"enlightened liberal tolerance\" that I hear so much about?</td>\n",
       "      <td>Well, not exactly dancing --- maybe just a slow do-si-do.</td>\n",
       "      <td>czyxzx7</td>\n",
       "      <td>czyy7cu</td>\n",
       "      <td>Conservative</td>\n",
       "      <td>yes_unpalatable</td>\n",
       "    </tr>\n",
       "    <tr>\n",
       "      <th>106</th>\n",
       "      <td>Is it?</td>\n",
       "      <td>Is it? Well I feel the same of you so at least we have that in common.</td>\n",
       "      <td>Its outstanding how stupid this opinion is.</td>\n",
       "      <td>d24atah</td>\n",
       "      <td>d24ay0p</td>\n",
       "      <td>cringe</td>\n",
       "      <td>yes_unpalatable</td>\n",
       "    </tr>\n",
       "    <tr>\n",
       "      <th>245</th>\n",
       "      <td>I thought you payed each other in Fosters &amp;amp; Shitposts?</td>\n",
       "      <td>I thought you payed each other in Fosters &amp;amp; Shitposts?</td>\n",
       "      <td>In Australia, our notes are fucked.</td>\n",
       "      <td>d2atf69</td>\n",
       "      <td>d2axdvn</td>\n",
       "      <td>4chan</td>\n",
       "      <td>yes_unpalatable</td>\n",
       "    </tr>\n",
       "    <tr>\n",
       "      <th>283</th>\n",
       "      <td>So what you're saying is if we hire enough large pedophiles we can solve any crisis involving children?</td>\n",
       "      <td>So what you're saying is if we hire enough large pedophiles we can solve any crisis involving children?</td>\n",
       "      <td>Hire larger pedophiles?</td>\n",
       "      <td>d0v64ci</td>\n",
       "      <td>d0v7l4c</td>\n",
       "      <td>sports</td>\n",
       "      <td>yes_unpalatable</td>\n",
       "    </tr>\n",
       "    <tr>\n",
       "      <th>300</th>\n",
       "      <td>How will the annals of reason and logic *ever* be able to rebuild themselves?</td>\n",
       "      <td>Oh what a path of destruction my misunderstanding of 2 lame ass communities has left in its wake. How will the annals of reason and logic *ever* be able to rebuild themselves?\\n\\nNot every thread with misinformation is a court hearing.</td>\n",
       "      <td>Huh so you made pretty strong claims and then you say \"I might be wrong, I'll check\".\\n\\nFrankly, I have qualms with both PUA and TRP communities, but the least that can be done before critiquing them is understanding what their views actually are.</td>\n",
       "      <td>d0w4nz9</td>\n",
       "      <td>d0w6b8j</td>\n",
       "      <td>cringe</td>\n",
       "      <td>yes_unpalatable</td>\n",
       "    </tr>\n",
       "    <tr>\n",
       "      <th>309</th>\n",
       "      <td>So, you're saying that hitting someone in the face with their stick is part of the game?</td>\n",
       "      <td>So, you're saying that hitting someone in the face with their stick is part of the game?</td>\n",
       "      <td>It was a one handed swing, thats nothing but a 2game suspension, lets not act like he baseball swung the guy.</td>\n",
       "      <td>d1jxm2i</td>\n",
       "      <td>d1ki3fi</td>\n",
       "      <td>sports</td>\n",
       "      <td>yes_unpalatable</td>\n",
       "    </tr>\n",
       "    <tr>\n",
       "      <th>316</th>\n",
       "      <td>Does it make my statement any less true?</td>\n",
       "      <td>Does it make my statement any less true?</td>\n",
       "      <td>You showed him, you'd shit all over a community without having anything to correct. I mean, the source post was about dairy, not meat... and you didn't even really answer the question with a congruent answer.</td>\n",
       "      <td>d028xjl</td>\n",
       "      <td>d029e0w</td>\n",
       "      <td>TumblrInAction</td>\n",
       "      <td>yes_unpalatable</td>\n",
       "    </tr>\n",
       "  </tbody>\n",
       "</table>\n",
       "</div>"
      ],
      "text/plain": [
       "                                                                                                    question  \\\n",
       "101  Is this part of that \"enlightened liberal tolerance\" that I hear so much about?                           \n",
       "106  Is it?                                                                                                    \n",
       "245  I thought you payed each other in Fosters &amp; Shitposts?                                                \n",
       "283  So what you're saying is if we hire enough large pedophiles we can solve any crisis involving children?   \n",
       "300  How will the annals of reason and logic *ever* be able to rebuild themselves?                             \n",
       "309  So, you're saying that hitting someone in the face with their stick is part of the game?                  \n",
       "316  Does it make my statement any less true?                                                                  \n",
       "\n",
       "                                                                                                                                                                                                                                      reply_text  \\\n",
       "101  Is this part of that \"enlightened liberal tolerance\" that I hear so much about?                                                                                                                                                               \n",
       "106  Is it? Well I feel the same of you so at least we have that in common.                                                                                                                                                                        \n",
       "245  I thought you payed each other in Fosters &amp; Shitposts?                                                                                                                                                                                    \n",
       "283  So what you're saying is if we hire enough large pedophiles we can solve any crisis involving children?                                                                                                                                       \n",
       "300  Oh what a path of destruction my misunderstanding of 2 lame ass communities has left in its wake. How will the annals of reason and logic *ever* be able to rebuild themselves?\\n\\nNot every thread with misinformation is a court hearing.   \n",
       "309  So, you're saying that hitting someone in the face with their stick is part of the game?                                                                                                                                                      \n",
       "316  Does it make my statement any less true?                                                                                                                                                                                                      \n",
       "\n",
       "                                                                                                                                                                                                                                                 comment_text  \\\n",
       "101  Well, not exactly dancing --- maybe just a slow do-si-do.                                                                                                                                                                                                  \n",
       "106  Its outstanding how stupid this opinion is.                                                                                                                                                                                                                \n",
       "245  In Australia, our notes are fucked.                                                                                                                                                                                                                        \n",
       "283  Hire larger pedophiles?                                                                                                                                                                                                                                    \n",
       "300  Huh so you made pretty strong claims and then you say \"I might be wrong, I'll check\".\\n\\nFrankly, I have qualms with both PUA and TRP communities, but the least that can be done before critiquing them is understanding what their views actually are.   \n",
       "309  It was a one handed swing, thats nothing but a 2game suspension, lets not act like he baseball swung the guy.                                                                                                                                              \n",
       "316  You showed him, you'd shit all over a community without having anything to correct. I mean, the source post was about dairy, not meat... and you didn't even really answer the question with a congruent answer.                                           \n",
       "\n",
       "    comment_id reply_id       subreddit            label  \n",
       "101  czyxzx7    czyy7cu  Conservative    yes_unpalatable  \n",
       "106  d24atah    d24ay0p  cringe          yes_unpalatable  \n",
       "245  d2atf69    d2axdvn  4chan           yes_unpalatable  \n",
       "283  d0v64ci    d0v7l4c  sports          yes_unpalatable  \n",
       "300  d0w4nz9    d0w6b8j  cringe          yes_unpalatable  \n",
       "309  d1jxm2i    d1ki3fi  sports          yes_unpalatable  \n",
       "316  d028xjl    d029e0w  TumblrInAction  yes_unpalatable  "
      ]
     },
     "execution_count": 28,
     "metadata": {},
     "output_type": "execute_result"
    }
   ],
   "source": [
    "# Check out problematic Test Questions missed 'THRESHOLD' times:\n",
    "THRESHOLD = 6\n",
    "\n",
    "\n",
    "monitor_logger = '/home/ndg/users/sbagga1/unpalatable-questions/crowdsourcing/logs/batch-3/\\\n",
    "MTurk_monitor_HITs_batch3.log'\n",
    "map_tq_workers = tq_report_misc_info(monitor_logger)\n",
    "\n",
    "problematic_tqs = []\n",
    "for tq in map_tq_workers:\n",
    "    if len(map_tq_workers[tq]) > THRESHOLD:\n",
    "        problematic_tqs.append(tq)\n",
    "        \n",
    "\n",
    "tq_df = pd.read_csv('/home/ndg/users/sbagga1/unpalatable-questions/crowdsourcing/data/TestQuestions.csv',\n",
    "                   lineterminator='\\n')\n",
    "print(\"Total Test Questions: \", tq_df.shape)\n",
    "\n",
    "blah = tq_df.loc[tq_df['reply_id'].isin(problematic_tqs)]\n",
    "print(blah['reply_id'].tolist())\n",
    "blah"
   ]
  },
  {
   "cell_type": "markdown",
   "metadata": {},
   "source": [
    "## fin.\n",
    "\n",
    "### Combined stats:"
   ]
  },
  {
   "cell_type": "code",
   "execution_count": 2,
   "metadata": {},
   "outputs": [
    {
     "name": "stdout",
     "output_type": "stream",
     "text": [
      "(10909, 8)\n"
     ]
    },
    {
     "data": {
      "text/plain": [
       "not_unpalatable    8992\n",
       "yes_unpalatable    1917\n",
       "Name: label, dtype: int64"
      ]
     },
     "execution_count": 2,
     "metadata": {},
     "output_type": "execute_result"
    }
   ],
   "source": [
    "df = pd.read_csv('/home/ndg/users/sbagga1/unpalatable-questions/crowdsourcing/annotations/\\\n",
    "annotations_UQ.csv', lineterminator='\\n')\n",
    "print(df.shape)\n",
    "df['label'].value_counts()"
   ]
  },
  {
   "cell_type": "code",
   "execution_count": 3,
   "metadata": {},
   "outputs": [
    {
     "data": {
      "text/plain": [
       "0.6    879\n",
       "0.8    585\n",
       "1.0    453\n",
       "Name: confidence, dtype: int64"
      ]
     },
     "execution_count": 3,
     "metadata": {},
     "output_type": "execute_result"
    }
   ],
   "source": [
    "yes = df.loc[df['label']=='yes_unpalatable']\n",
    "yes['confidence'].value_counts()"
   ]
  },
  {
   "cell_type": "code",
   "execution_count": 4,
   "metadata": {},
   "outputs": [
    {
     "data": {
      "text/plain": [
       "4chan                   225\n",
       "ImGoingToHellForThis    202\n",
       "politics                176\n",
       "Conservative            134\n",
       "cringe                  128\n",
       "KotakuInAction          127\n",
       "CringeAnarchy           125\n",
       "The_Donald              124\n",
       "cringepics              123\n",
       "TumblrInAction          118\n",
       "sports                  112\n",
       "PoliticalDiscussion     110\n",
       "nba                     77 \n",
       "hockey                  67 \n",
       "nfl                     67 \n",
       "fake_subreddit          2  \n",
       "Name: subreddit, dtype: int64"
      ]
     },
     "execution_count": 4,
     "metadata": {},
     "output_type": "execute_result"
    }
   ],
   "source": [
    "yes['subreddit'].value_counts()"
   ]
  },
  {
   "cell_type": "code",
   "execution_count": 5,
   "metadata": {},
   "outputs": [
    {
     "data": {
      "text/plain": [
       "1.0    5282\n",
       "0.8    2386\n",
       "0.6    1324\n",
       "Name: confidence, dtype: int64"
      ]
     },
     "execution_count": 5,
     "metadata": {},
     "output_type": "execute_result"
    }
   ],
   "source": [
    "no = df.loc[df['label']=='not_unpalatable']\n",
    "no['confidence'].value_counts()"
   ]
  },
  {
   "cell_type": "code",
   "execution_count": 6,
   "metadata": {},
   "outputs": [
    {
     "data": {
      "text/plain": [
       "PoliticalDiscussion     650\n",
       "hockey                  641\n",
       "nfl                     640\n",
       "cringepics              638\n",
       "The_Donald              638\n",
       "nba                     627\n",
       "Conservative            626\n",
       "cringe                  622\n",
       "TumblrInAction          589\n",
       "sports                  588\n",
       "politics                584\n",
       "KotakuInAction          580\n",
       "CringeAnarchy           578\n",
       "ImGoingToHellForThis    508\n",
       "4chan                   483\n",
       "Name: subreddit, dtype: int64"
      ]
     },
     "execution_count": 6,
     "metadata": {},
     "output_type": "execute_result"
    }
   ],
   "source": [
    "no['subreddit'].value_counts()"
   ]
  },
  {
   "cell_type": "code",
   "execution_count": 8,
   "metadata": {},
   "outputs": [],
   "source": [
    "import seaborn as sns\n",
    "import matplotlib\n",
    "\n",
    "%matplotlib inline"
   ]
  },
  {
   "cell_type": "code",
   "execution_count": 15,
   "metadata": {},
   "outputs": [
    {
     "data": {
      "image/png": "[encoded data removed]",
      "text/plain": [
       "<Figure size 432x288 with 1 Axes>"
      ]
     },
     "metadata": {
      "needs_background": "light"
     },
     "output_type": "display_data"
    }
   ],
   "source": [
    "p = sns.countplot(x='subreddit', hue='label', data=df)\n",
    "p.set_xlabel('Subreddit')\n",
    "p.set_ylabel('Count')\n",
    "p.tick_params(axis='x', rotation=90)"
   ]
  }
 ],
 "metadata": {
  "kernelspec": {
   "display_name": "Python 3",
   "language": "python",
   "name": "python3"
  },
  "language_info": {
   "codemirror_mode": {
    "name": "ipython",
    "version": 3
   },
   "file_extension": ".py",
   "mimetype": "text/x-python",
   "name": "python",
   "nbconvert_exporter": "python",
   "pygments_lexer": "ipython3",
   "version": "3.5.2"
  }
 },
 "nbformat": 4,
 "nbformat_minor": 2
}
