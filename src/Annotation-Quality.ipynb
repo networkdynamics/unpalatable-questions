{
 "cells": [
  {
   "cell_type": "markdown",
   "metadata": {},
   "source": [
    "1. Calculate Krippendorf’s alpha score: used when multiple annotators rate overlapping but disparate set of comments\n",
    "2. Manually annotate 150 samples and calculate Kappa score\n",
    "\n",
    "#### Krippendorf’s alpha"
   ]
  },
  {
   "cell_type": "code",
   "execution_count": 1,
   "metadata": {
    "collapsed": true
   },
   "outputs": [],
   "source": [
    "import pandas as pd\n",
    "from nltk.metrics.agreement import AnnotationTask\n",
    "from nltk.metrics import binary_distance\n",
    "pd.set_option('display.max_colwidth', -1)"
   ]
  },
  {
   "cell_type": "code",
   "execution_count": 2,
   "metadata": {},
   "outputs": [
    {
     "name": "stdout",
     "output_type": "stream",
     "text": [
      "(60050, 5)\n"
     ]
    },
    {
     "data": {
      "text/html": [
       "<div>\n",
       "<style scoped>\n",
       "    .dataframe tbody tr th:only-of-type {\n",
       "        vertical-align: middle;\n",
       "    }\n",
       "\n",
       "    .dataframe tbody tr th {\n",
       "        vertical-align: top;\n",
       "    }\n",
       "\n",
       "    .dataframe thead th {\n",
       "        text-align: right;\n",
       "    }\n",
       "</style>\n",
       "<table border=\"1\" class=\"dataframe\">\n",
       "  <thead>\n",
       "    <tr style=\"text-align: right;\">\n",
       "      <th></th>\n",
       "      <th>Reply ID</th>\n",
       "      <th>Label</th>\n",
       "      <th>Worker ID</th>\n",
       "      <th>Accuracy</th>\n",
       "      <th># Assignments</th>\n",
       "    </tr>\n",
       "  </thead>\n",
       "  <tbody>\n",
       "    <tr>\n",
       "      <th>0</th>\n",
       "      <td>d1xp7zw</td>\n",
       "      <td>not_unpalatable</td>\n",
       "      <td>AHBEBTY41ZW52</td>\n",
       "      <td>92.0</td>\n",
       "      <td>90</td>\n",
       "    </tr>\n",
       "    <tr>\n",
       "      <th>1</th>\n",
       "      <td>d1kgl7x</td>\n",
       "      <td>not_unpalatable</td>\n",
       "      <td>AHBEBTY41ZW52</td>\n",
       "      <td>92.0</td>\n",
       "      <td>90</td>\n",
       "    </tr>\n",
       "    <tr>\n",
       "      <th>2</th>\n",
       "      <td>czlolak</td>\n",
       "      <td>not_unpalatable</td>\n",
       "      <td>AHBEBTY41ZW52</td>\n",
       "      <td>92.0</td>\n",
       "      <td>90</td>\n",
       "    </tr>\n",
       "    <tr>\n",
       "      <th>3</th>\n",
       "      <td>cz4rxc1</td>\n",
       "      <td>not_unpalatable</td>\n",
       "      <td>AHBEBTY41ZW52</td>\n",
       "      <td>92.0</td>\n",
       "      <td>90</td>\n",
       "    </tr>\n",
       "    <tr>\n",
       "      <th>4</th>\n",
       "      <td>d0nmwl8</td>\n",
       "      <td>not_unpalatable</td>\n",
       "      <td>AHBEBTY41ZW52</td>\n",
       "      <td>92.0</td>\n",
       "      <td>90</td>\n",
       "    </tr>\n",
       "  </tbody>\n",
       "</table>\n",
       "</div>"
      ],
      "text/plain": [
       "  Reply ID            Label      Worker ID  Accuracy  # Assignments\n",
       "0  d1xp7zw  not_unpalatable  AHBEBTY41ZW52  92.0      90           \n",
       "1  d1kgl7x  not_unpalatable  AHBEBTY41ZW52  92.0      90           \n",
       "2  czlolak  not_unpalatable  AHBEBTY41ZW52  92.0      90           \n",
       "3  cz4rxc1  not_unpalatable  AHBEBTY41ZW52  92.0      90           \n",
       "4  d0nmwl8  not_unpalatable  AHBEBTY41ZW52  92.0      90           "
      ]
     },
     "execution_count": 2,
     "metadata": {},
     "output_type": "execute_result"
    }
   ],
   "source": [
    "df = pd.read_csv('/home/ndg/users/sbagga1/unpalatable-questions/crowdsourcing/annotations/annotations_batch_1_2_3.tsv',\n",
    "                delimiter='\\t')\n",
    "print(df.shape)\n",
    "df.head()"
   ]
  },
  {
   "cell_type": "code",
   "execution_count": 3,
   "metadata": {},
   "outputs": [
    {
     "name": "stdout",
     "output_type": "stream",
     "text": [
      "60050\n",
      "[('AHBEBTY41ZW52', 'd1xp7zw', 'not_unpalatable'), ('AHBEBTY41ZW52', 'd1kgl7x', 'not_unpalatable'), ('AHBEBTY41ZW52', 'czlolak', 'not_unpalatable')]\n"
     ]
    }
   ],
   "source": [
    "# Ordering: (45221979, 'd22rr63', 'not_unpalatable')\n",
    "annotation_triplets = [tuple(d) for d in df[['Worker ID', 'Reply ID', 'Label']].values]\n",
    "print(len(annotation_triplets))\n",
    "print(annotation_triplets[:3])"
   ]
  },
  {
   "cell_type": "code",
   "execution_count": 4,
   "metadata": {},
   "outputs": [
    {
     "name": "stdout",
     "output_type": "stream",
     "text": [
      "0.3912294528067308\n"
     ]
    }
   ],
   "source": [
    "t = AnnotationTask(annotation_triplets, distance=binary_distance)\n",
    "print(t.alpha())"
   ]
  },
  {
   "cell_type": "markdown",
   "metadata": {},
   "source": [
    "#### Kappa score"
   ]
  },
  {
   "cell_type": "code",
   "execution_count": 5,
   "metadata": {},
   "outputs": [
    {
     "name": "stdout",
     "output_type": "stream",
     "text": [
      "150 150\n",
      "Kappa: 0.8248175182481752\n"
     ]
    }
   ],
   "source": [
    "from sklearn.metrics import cohen_kappa_score\n",
    "\n",
    "# Read the annotated file and calculate Kappa:\n",
    "df = pd.read_excel('/home/ndg/users/sbagga1/unpalatable-questions/crowdsourcing/random_150_for_kappa.xlsx')\n",
    "my_labels = df['my_label'].tolist()\n",
    "labels = df['label'].tolist()\n",
    "print(len(my_labels), len(labels))\n",
    "\n",
    "print(\"Kappa:\", cohen_kappa_score(my_labels, labels))"
   ]
  },
  {
   "cell_type": "markdown",
   "metadata": {},
   "source": [
    "## fin."
   ]
  }
 ],
 "metadata": {
  "kernelspec": {
   "display_name": "Python 3",
   "language": "python",
   "name": "python3"
  },
  "language_info": {
   "codemirror_mode": {
    "name": "ipython",
    "version": 3
   },
   "file_extension": ".py",
   "mimetype": "text/x-python",
   "name": "python",
   "nbconvert_exporter": "python",
   "pygments_lexer": "ipython3",
   "version": "3.5.2"
  }
 },
 "nbformat": 4,
 "nbformat_minor": 2
}
